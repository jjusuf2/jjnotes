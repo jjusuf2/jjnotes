{
 "cells": [
  {
   "cell_type": "markdown",
   "id": "92bbe606-a299-44e7-b8b4-bfa087327524",
   "metadata": {},
   "source": [
    "# Download SRA"
   ]
  },
  {
   "cell_type": "code",
   "execution_count": null,
   "id": "c12a8651-05b8-4984-b759-c300c8bcac0e",
   "metadata": {},
   "outputs": [],
   "source": []
  }
 ],
 "metadata": {
  "kernelspec": {
   "display_name": "Python 3 (ipykernel)",
   "language": "python",
   "name": "python3"
  },
  "language_info": {
   "codemirror_mode": {
    "name": "ipython",
    "version": 3
   },
   "file_extension": ".py",
   "mimetype": "text/x-python",
   "name": "python",
   "nbconvert_exporter": "python",
   "pygments_lexer": "ipython3",
   "version": "3.11.5"
  }
 },
 "nbformat": 4,
 "nbformat_minor": 5
}